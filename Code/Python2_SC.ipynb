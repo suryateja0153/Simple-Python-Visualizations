{
 "cells": [
  {
   "cell_type": "code",
   "execution_count": 1,
   "metadata": {},
   "outputs": [],
   "source": [
    "#Import Libraries\n",
    "import pandas as pd\n",
    "from datetime import datetime\n",
    "import matplotlib.pyplot as plt"
   ]
  },
  {
   "cell_type": "code",
   "execution_count": 2,
   "metadata": {},
   "outputs": [],
   "source": [
    "#Q1: Import Data\n",
    "df_2020 = pd.read_csv('2020 Cases Only.csv', low_memory=False)\n",
    "df_2021 = pd.read_csv('2021 Cases Only.csv', low_memory = False)"
   ]
  },
  {
   "cell_type": "code",
   "execution_count": 3,
   "metadata": {},
   "outputs": [],
   "source": [
    "#Combine Data\n",
    "df_all = df_2020.append(df_2021)"
   ]
  },
  {
   "cell_type": "code",
   "execution_count": 4,
   "metadata": {},
   "outputs": [],
   "source": [
    "#Q2: Dataframe Dade County Data\n",
    "df_dade = df_all[df_all['County'] == 'Dade']"
   ]
  },
  {
   "cell_type": "code",
   "execution_count": 5,
   "metadata": {},
   "outputs": [
    {
     "data": {
      "text/html": [
       "<div>\n",
       "<style scoped>\n",
       "    .dataframe tbody tr th:only-of-type {\n",
       "        vertical-align: middle;\n",
       "    }\n",
       "\n",
       "    .dataframe tbody tr th {\n",
       "        vertical-align: top;\n",
       "    }\n",
       "\n",
       "    .dataframe thead th {\n",
       "        text-align: right;\n",
       "    }\n",
       "</style>\n",
       "<table border=\"1\" class=\"dataframe\">\n",
       "  <thead>\n",
       "    <tr style=\"text-align: right;\">\n",
       "      <th></th>\n",
       "      <th>OBJECTID</th>\n",
       "      <th>County</th>\n",
       "      <th>Age</th>\n",
       "      <th>Age_group</th>\n",
       "      <th>Gender</th>\n",
       "      <th>Jurisdicti</th>\n",
       "      <th>Travel_rel</th>\n",
       "      <th>Origin</th>\n",
       "      <th>EDvisit</th>\n",
       "      <th>Hospitaliz</th>\n",
       "      <th>Died</th>\n",
       "      <th>Case_</th>\n",
       "      <th>Contact</th>\n",
       "      <th>Case1</th>\n",
       "      <th>EventDate</th>\n",
       "      <th>ChartDate</th>\n",
       "      <th>ObjectId2</th>\n",
       "      <th>ObjectId</th>\n",
       "    </tr>\n",
       "  </thead>\n",
       "  <tbody>\n",
       "    <tr>\n",
       "      <th>0</th>\n",
       "      <td>NaN</td>\n",
       "      <td>Dade</td>\n",
       "      <td>21.0</td>\n",
       "      <td>15-24 years</td>\n",
       "      <td>Female</td>\n",
       "      <td>FL resident</td>\n",
       "      <td>No</td>\n",
       "      <td>NaN</td>\n",
       "      <td>NaN</td>\n",
       "      <td>NO</td>\n",
       "      <td>NaN</td>\n",
       "      <td>Yes</td>\n",
       "      <td>NaN</td>\n",
       "      <td>2020/05/08 05:00:00+00</td>\n",
       "      <td>5/7/2020</td>\n",
       "      <td>2020/05/08 05:00:00+00</td>\n",
       "      <td>248771.0</td>\n",
       "      <td>NaN</td>\n",
       "    </tr>\n",
       "    <tr>\n",
       "      <th>17</th>\n",
       "      <td>NaN</td>\n",
       "      <td>Dade</td>\n",
       "      <td>22.0</td>\n",
       "      <td>15-24 years</td>\n",
       "      <td>Female</td>\n",
       "      <td>FL resident</td>\n",
       "      <td>No</td>\n",
       "      <td>NaN</td>\n",
       "      <td>NaN</td>\n",
       "      <td>NO</td>\n",
       "      <td>NaN</td>\n",
       "      <td>Yes</td>\n",
       "      <td>NO</td>\n",
       "      <td>2020/05/07 05:00:00+00</td>\n",
       "      <td>4/7/2020</td>\n",
       "      <td>2020/05/07 05:00:00+00</td>\n",
       "      <td>224594.0</td>\n",
       "      <td>NaN</td>\n",
       "    </tr>\n",
       "    <tr>\n",
       "      <th>37</th>\n",
       "      <td>NaN</td>\n",
       "      <td>Dade</td>\n",
       "      <td>34.0</td>\n",
       "      <td>25-34 years</td>\n",
       "      <td>Female</td>\n",
       "      <td>FL resident</td>\n",
       "      <td>No</td>\n",
       "      <td>NaN</td>\n",
       "      <td>NaN</td>\n",
       "      <td>NO</td>\n",
       "      <td>NaN</td>\n",
       "      <td>Yes</td>\n",
       "      <td>NO</td>\n",
       "      <td>2020/07/15 05:00:00+00</td>\n",
       "      <td>7/5/2020</td>\n",
       "      <td>2020/07/15 05:00:00+00</td>\n",
       "      <td>350241.0</td>\n",
       "      <td>NaN</td>\n",
       "    </tr>\n",
       "    <tr>\n",
       "      <th>81</th>\n",
       "      <td>NaN</td>\n",
       "      <td>Dade</td>\n",
       "      <td>58.0</td>\n",
       "      <td>55-64 years</td>\n",
       "      <td>Female</td>\n",
       "      <td>FL resident</td>\n",
       "      <td>No</td>\n",
       "      <td>NaN</td>\n",
       "      <td>NaN</td>\n",
       "      <td>NO</td>\n",
       "      <td>NaN</td>\n",
       "      <td>Yes</td>\n",
       "      <td>NO</td>\n",
       "      <td>2020/04/17 05:00:00+00</td>\n",
       "      <td>4/12/2020</td>\n",
       "      <td>2020/04/17 05:00:00+00</td>\n",
       "      <td>224110.0</td>\n",
       "      <td>NaN</td>\n",
       "    </tr>\n",
       "    <tr>\n",
       "      <th>182</th>\n",
       "      <td>NaN</td>\n",
       "      <td>Dade</td>\n",
       "      <td>59.0</td>\n",
       "      <td>55-64 years</td>\n",
       "      <td>Female</td>\n",
       "      <td>FL resident</td>\n",
       "      <td>No</td>\n",
       "      <td>NaN</td>\n",
       "      <td>NaN</td>\n",
       "      <td>NO</td>\n",
       "      <td>NaN</td>\n",
       "      <td>Yes</td>\n",
       "      <td>NaN</td>\n",
       "      <td>2020/07/29 05:00:00+00</td>\n",
       "      <td>7/21/2020</td>\n",
       "      <td>2020/07/29 05:00:00+00</td>\n",
       "      <td>520735.0</td>\n",
       "      <td>NaN</td>\n",
       "    </tr>\n",
       "    <tr>\n",
       "      <th>...</th>\n",
       "      <td>...</td>\n",
       "      <td>...</td>\n",
       "      <td>...</td>\n",
       "      <td>...</td>\n",
       "      <td>...</td>\n",
       "      <td>...</td>\n",
       "      <td>...</td>\n",
       "      <td>...</td>\n",
       "      <td>...</td>\n",
       "      <td>...</td>\n",
       "      <td>...</td>\n",
       "      <td>...</td>\n",
       "      <td>...</td>\n",
       "      <td>...</td>\n",
       "      <td>...</td>\n",
       "      <td>...</td>\n",
       "      <td>...</td>\n",
       "      <td>...</td>\n",
       "    </tr>\n",
       "    <tr>\n",
       "      <th>938188</th>\n",
       "      <td>NaN</td>\n",
       "      <td>Dade</td>\n",
       "      <td>58.0</td>\n",
       "      <td>55-64 years</td>\n",
       "      <td>Unknown</td>\n",
       "      <td>Non-FL resident</td>\n",
       "      <td>Unknown</td>\n",
       "      <td>NaN</td>\n",
       "      <td>UNKNOWN</td>\n",
       "      <td>UNKNOWN</td>\n",
       "      <td>NaN</td>\n",
       "      <td>Yes</td>\n",
       "      <td>NaN</td>\n",
       "      <td>2021/05/04 05:00:00+00</td>\n",
       "      <td>4/26/2021</td>\n",
       "      <td>2021/05/04 05:00:00+00</td>\n",
       "      <td>NaN</td>\n",
       "      <td>57332.0</td>\n",
       "    </tr>\n",
       "    <tr>\n",
       "      <th>938189</th>\n",
       "      <td>NaN</td>\n",
       "      <td>Dade</td>\n",
       "      <td>61.0</td>\n",
       "      <td>55-64 years</td>\n",
       "      <td>Unknown</td>\n",
       "      <td>Non-FL resident</td>\n",
       "      <td>Unknown</td>\n",
       "      <td>NaN</td>\n",
       "      <td>UNKNOWN</td>\n",
       "      <td>UNKNOWN</td>\n",
       "      <td>NaN</td>\n",
       "      <td>Yes</td>\n",
       "      <td>NaN</td>\n",
       "      <td>2021/05/21 05:00:00+00</td>\n",
       "      <td>5/20/2021</td>\n",
       "      <td>2021/05/21 05:00:00+00</td>\n",
       "      <td>NaN</td>\n",
       "      <td>63856.0</td>\n",
       "    </tr>\n",
       "    <tr>\n",
       "      <th>938194</th>\n",
       "      <td>NaN</td>\n",
       "      <td>Dade</td>\n",
       "      <td>18.0</td>\n",
       "      <td>15-24 years</td>\n",
       "      <td>Unknown</td>\n",
       "      <td>Non-FL resident</td>\n",
       "      <td>Unknown</td>\n",
       "      <td>NaN</td>\n",
       "      <td>UNKNOWN</td>\n",
       "      <td>UNKNOWN</td>\n",
       "      <td>NaN</td>\n",
       "      <td>Yes</td>\n",
       "      <td>UNKNOWN</td>\n",
       "      <td>2021/02/19 05:00:00+00</td>\n",
       "      <td>2/19/2021</td>\n",
       "      <td>2021/02/19 05:00:00+00</td>\n",
       "      <td>NaN</td>\n",
       "      <td>876327.0</td>\n",
       "    </tr>\n",
       "    <tr>\n",
       "      <th>938198</th>\n",
       "      <td>NaN</td>\n",
       "      <td>Dade</td>\n",
       "      <td>33.0</td>\n",
       "      <td>25-34 years</td>\n",
       "      <td>Unknown</td>\n",
       "      <td>Non-FL resident</td>\n",
       "      <td>Unknown</td>\n",
       "      <td>NaN</td>\n",
       "      <td>UNKNOWN</td>\n",
       "      <td>UNKNOWN</td>\n",
       "      <td>NaN</td>\n",
       "      <td>Yes</td>\n",
       "      <td>UNKNOWN</td>\n",
       "      <td>2021/02/15 05:00:00+00</td>\n",
       "      <td>2/15/2021</td>\n",
       "      <td>2021/02/15 05:00:00+00</td>\n",
       "      <td>NaN</td>\n",
       "      <td>11896.0</td>\n",
       "    </tr>\n",
       "    <tr>\n",
       "      <th>938202</th>\n",
       "      <td>NaN</td>\n",
       "      <td>Dade</td>\n",
       "      <td>39.0</td>\n",
       "      <td>35-44 years</td>\n",
       "      <td>Unknown</td>\n",
       "      <td>Non-FL resident</td>\n",
       "      <td>Unknown</td>\n",
       "      <td>NaN</td>\n",
       "      <td>UNKNOWN</td>\n",
       "      <td>UNKNOWN</td>\n",
       "      <td>NaN</td>\n",
       "      <td>Yes</td>\n",
       "      <td>UNKNOWN</td>\n",
       "      <td>2021/02/08 05:00:00+00</td>\n",
       "      <td>2/8/2021</td>\n",
       "      <td>2021/02/08 05:00:00+00</td>\n",
       "      <td>NaN</td>\n",
       "      <td>30610.0</td>\n",
       "    </tr>\n",
       "  </tbody>\n",
       "</table>\n",
       "<p>493746 rows × 18 columns</p>\n",
       "</div>"
      ],
      "text/plain": [
       "        OBJECTID County   Age    Age_group   Gender       Jurisdicti  \\\n",
       "0            NaN   Dade  21.0  15-24 years   Female      FL resident   \n",
       "17           NaN   Dade  22.0  15-24 years   Female      FL resident   \n",
       "37           NaN   Dade  34.0  25-34 years   Female      FL resident   \n",
       "81           NaN   Dade  58.0  55-64 years   Female      FL resident   \n",
       "182          NaN   Dade  59.0  55-64 years   Female      FL resident   \n",
       "...          ...    ...   ...          ...      ...              ...   \n",
       "938188       NaN   Dade  58.0  55-64 years  Unknown  Non-FL resident   \n",
       "938189       NaN   Dade  61.0  55-64 years  Unknown  Non-FL resident   \n",
       "938194       NaN   Dade  18.0  15-24 years  Unknown  Non-FL resident   \n",
       "938198       NaN   Dade  33.0  25-34 years  Unknown  Non-FL resident   \n",
       "938202       NaN   Dade  39.0  35-44 years  Unknown  Non-FL resident   \n",
       "\n",
       "       Travel_rel Origin  EDvisit Hospitaliz Died Case_  Contact  \\\n",
       "0              No    NaN      NaN         NO  NaN   Yes      NaN   \n",
       "17             No    NaN      NaN         NO  NaN   Yes       NO   \n",
       "37             No    NaN      NaN         NO  NaN   Yes       NO   \n",
       "81             No    NaN      NaN         NO  NaN   Yes       NO   \n",
       "182            No    NaN      NaN         NO  NaN   Yes      NaN   \n",
       "...           ...    ...      ...        ...  ...   ...      ...   \n",
       "938188    Unknown    NaN  UNKNOWN    UNKNOWN  NaN   Yes      NaN   \n",
       "938189    Unknown    NaN  UNKNOWN    UNKNOWN  NaN   Yes      NaN   \n",
       "938194    Unknown    NaN  UNKNOWN    UNKNOWN  NaN   Yes  UNKNOWN   \n",
       "938198    Unknown    NaN  UNKNOWN    UNKNOWN  NaN   Yes  UNKNOWN   \n",
       "938202    Unknown    NaN  UNKNOWN    UNKNOWN  NaN   Yes  UNKNOWN   \n",
       "\n",
       "                         Case1  EventDate               ChartDate  ObjectId2  \\\n",
       "0       2020/05/08 05:00:00+00   5/7/2020  2020/05/08 05:00:00+00   248771.0   \n",
       "17      2020/05/07 05:00:00+00   4/7/2020  2020/05/07 05:00:00+00   224594.0   \n",
       "37      2020/07/15 05:00:00+00   7/5/2020  2020/07/15 05:00:00+00   350241.0   \n",
       "81      2020/04/17 05:00:00+00  4/12/2020  2020/04/17 05:00:00+00   224110.0   \n",
       "182     2020/07/29 05:00:00+00  7/21/2020  2020/07/29 05:00:00+00   520735.0   \n",
       "...                        ...        ...                     ...        ...   \n",
       "938188  2021/05/04 05:00:00+00  4/26/2021  2021/05/04 05:00:00+00        NaN   \n",
       "938189  2021/05/21 05:00:00+00  5/20/2021  2021/05/21 05:00:00+00        NaN   \n",
       "938194  2021/02/19 05:00:00+00  2/19/2021  2021/02/19 05:00:00+00        NaN   \n",
       "938198  2021/02/15 05:00:00+00  2/15/2021  2021/02/15 05:00:00+00        NaN   \n",
       "938202  2021/02/08 05:00:00+00   2/8/2021  2021/02/08 05:00:00+00        NaN   \n",
       "\n",
       "        ObjectId  \n",
       "0            NaN  \n",
       "17           NaN  \n",
       "37           NaN  \n",
       "81           NaN  \n",
       "182          NaN  \n",
       "...          ...  \n",
       "938188   57332.0  \n",
       "938189   63856.0  \n",
       "938194  876327.0  \n",
       "938198   11896.0  \n",
       "938202   30610.0  \n",
       "\n",
       "[493746 rows x 18 columns]"
      ]
     },
     "execution_count": 5,
     "metadata": {},
     "output_type": "execute_result"
    }
   ],
   "source": [
    "df_dade"
   ]
  },
  {
   "cell_type": "code",
   "execution_count": 6,
   "metadata": {},
   "outputs": [],
   "source": [
    "#Q3: GroupBy on EventDate\n",
    "df_dade_grp = df_dade.groupby(['EventDate']).count()"
   ]
  },
  {
   "cell_type": "code",
   "execution_count": 7,
   "metadata": {},
   "outputs": [
    {
     "data": {
      "text/html": [
       "<div>\n",
       "<style scoped>\n",
       "    .dataframe tbody tr th:only-of-type {\n",
       "        vertical-align: middle;\n",
       "    }\n",
       "\n",
       "    .dataframe tbody tr th {\n",
       "        vertical-align: top;\n",
       "    }\n",
       "\n",
       "    .dataframe thead th {\n",
       "        text-align: right;\n",
       "    }\n",
       "</style>\n",
       "<table border=\"1\" class=\"dataframe\">\n",
       "  <thead>\n",
       "    <tr style=\"text-align: right;\">\n",
       "      <th></th>\n",
       "      <th>OBJECTID</th>\n",
       "      <th>County</th>\n",
       "      <th>Age</th>\n",
       "      <th>Age_group</th>\n",
       "      <th>Gender</th>\n",
       "      <th>Jurisdicti</th>\n",
       "      <th>Travel_rel</th>\n",
       "      <th>Origin</th>\n",
       "      <th>EDvisit</th>\n",
       "      <th>Hospitaliz</th>\n",
       "      <th>Died</th>\n",
       "      <th>Case_</th>\n",
       "      <th>Contact</th>\n",
       "      <th>Case1</th>\n",
       "      <th>ChartDate</th>\n",
       "      <th>ObjectId2</th>\n",
       "      <th>ObjectId</th>\n",
       "    </tr>\n",
       "    <tr>\n",
       "      <th>EventDate</th>\n",
       "      <th></th>\n",
       "      <th></th>\n",
       "      <th></th>\n",
       "      <th></th>\n",
       "      <th></th>\n",
       "      <th></th>\n",
       "      <th></th>\n",
       "      <th></th>\n",
       "      <th></th>\n",
       "      <th></th>\n",
       "      <th></th>\n",
       "      <th></th>\n",
       "      <th></th>\n",
       "      <th></th>\n",
       "      <th></th>\n",
       "      <th></th>\n",
       "      <th></th>\n",
       "    </tr>\n",
       "  </thead>\n",
       "  <tbody>\n",
       "    <tr>\n",
       "      <th>1/1/2020</th>\n",
       "      <td>0</td>\n",
       "      <td>1</td>\n",
       "      <td>1</td>\n",
       "      <td>1</td>\n",
       "      <td>1</td>\n",
       "      <td>1</td>\n",
       "      <td>1</td>\n",
       "      <td>1</td>\n",
       "      <td>1</td>\n",
       "      <td>1</td>\n",
       "      <td>0</td>\n",
       "      <td>1</td>\n",
       "      <td>1</td>\n",
       "      <td>1</td>\n",
       "      <td>1</td>\n",
       "      <td>1</td>\n",
       "      <td>0</td>\n",
       "    </tr>\n",
       "    <tr>\n",
       "      <th>1/1/2021</th>\n",
       "      <td>0</td>\n",
       "      <td>2264</td>\n",
       "      <td>2264</td>\n",
       "      <td>2264</td>\n",
       "      <td>2264</td>\n",
       "      <td>2264</td>\n",
       "      <td>2264</td>\n",
       "      <td>39</td>\n",
       "      <td>2218</td>\n",
       "      <td>2264</td>\n",
       "      <td>26</td>\n",
       "      <td>2264</td>\n",
       "      <td>1611</td>\n",
       "      <td>2264</td>\n",
       "      <td>2264</td>\n",
       "      <td>0</td>\n",
       "      <td>2264</td>\n",
       "    </tr>\n",
       "    <tr>\n",
       "      <th>1/10/2021</th>\n",
       "      <td>0</td>\n",
       "      <td>2264</td>\n",
       "      <td>2264</td>\n",
       "      <td>2264</td>\n",
       "      <td>2264</td>\n",
       "      <td>2264</td>\n",
       "      <td>2264</td>\n",
       "      <td>35</td>\n",
       "      <td>2221</td>\n",
       "      <td>2264</td>\n",
       "      <td>20</td>\n",
       "      <td>2264</td>\n",
       "      <td>1510</td>\n",
       "      <td>2264</td>\n",
       "      <td>2264</td>\n",
       "      <td>0</td>\n",
       "      <td>2264</td>\n",
       "    </tr>\n",
       "    <tr>\n",
       "      <th>1/11/2021</th>\n",
       "      <td>0</td>\n",
       "      <td>2804</td>\n",
       "      <td>2802</td>\n",
       "      <td>2804</td>\n",
       "      <td>2804</td>\n",
       "      <td>2804</td>\n",
       "      <td>2804</td>\n",
       "      <td>25</td>\n",
       "      <td>2745</td>\n",
       "      <td>2803</td>\n",
       "      <td>29</td>\n",
       "      <td>2804</td>\n",
       "      <td>1852</td>\n",
       "      <td>2804</td>\n",
       "      <td>2804</td>\n",
       "      <td>0</td>\n",
       "      <td>2804</td>\n",
       "    </tr>\n",
       "    <tr>\n",
       "      <th>1/12/2021</th>\n",
       "      <td>0</td>\n",
       "      <td>2282</td>\n",
       "      <td>2282</td>\n",
       "      <td>2282</td>\n",
       "      <td>2282</td>\n",
       "      <td>2282</td>\n",
       "      <td>2282</td>\n",
       "      <td>21</td>\n",
       "      <td>2220</td>\n",
       "      <td>2281</td>\n",
       "      <td>16</td>\n",
       "      <td>2282</td>\n",
       "      <td>1491</td>\n",
       "      <td>2282</td>\n",
       "      <td>2282</td>\n",
       "      <td>0</td>\n",
       "      <td>2282</td>\n",
       "    </tr>\n",
       "    <tr>\n",
       "      <th>...</th>\n",
       "      <td>...</td>\n",
       "      <td>...</td>\n",
       "      <td>...</td>\n",
       "      <td>...</td>\n",
       "      <td>...</td>\n",
       "      <td>...</td>\n",
       "      <td>...</td>\n",
       "      <td>...</td>\n",
       "      <td>...</td>\n",
       "      <td>...</td>\n",
       "      <td>...</td>\n",
       "      <td>...</td>\n",
       "      <td>...</td>\n",
       "      <td>...</td>\n",
       "      <td>...</td>\n",
       "      <td>...</td>\n",
       "      <td>...</td>\n",
       "    </tr>\n",
       "    <tr>\n",
       "      <th>9/5/2020</th>\n",
       "      <td>0</td>\n",
       "      <td>392</td>\n",
       "      <td>391</td>\n",
       "      <td>392</td>\n",
       "      <td>392</td>\n",
       "      <td>392</td>\n",
       "      <td>392</td>\n",
       "      <td>4</td>\n",
       "      <td>378</td>\n",
       "      <td>392</td>\n",
       "      <td>8</td>\n",
       "      <td>392</td>\n",
       "      <td>255</td>\n",
       "      <td>392</td>\n",
       "      <td>392</td>\n",
       "      <td>392</td>\n",
       "      <td>0</td>\n",
       "    </tr>\n",
       "    <tr>\n",
       "      <th>9/6/2020</th>\n",
       "      <td>0</td>\n",
       "      <td>311</td>\n",
       "      <td>311</td>\n",
       "      <td>311</td>\n",
       "      <td>311</td>\n",
       "      <td>311</td>\n",
       "      <td>311</td>\n",
       "      <td>4</td>\n",
       "      <td>305</td>\n",
       "      <td>311</td>\n",
       "      <td>2</td>\n",
       "      <td>311</td>\n",
       "      <td>207</td>\n",
       "      <td>311</td>\n",
       "      <td>311</td>\n",
       "      <td>311</td>\n",
       "      <td>0</td>\n",
       "    </tr>\n",
       "    <tr>\n",
       "      <th>9/7/2020</th>\n",
       "      <td>0</td>\n",
       "      <td>410</td>\n",
       "      <td>410</td>\n",
       "      <td>410</td>\n",
       "      <td>410</td>\n",
       "      <td>410</td>\n",
       "      <td>410</td>\n",
       "      <td>6</td>\n",
       "      <td>402</td>\n",
       "      <td>410</td>\n",
       "      <td>6</td>\n",
       "      <td>410</td>\n",
       "      <td>256</td>\n",
       "      <td>410</td>\n",
       "      <td>410</td>\n",
       "      <td>410</td>\n",
       "      <td>0</td>\n",
       "    </tr>\n",
       "    <tr>\n",
       "      <th>9/8/2020</th>\n",
       "      <td>0</td>\n",
       "      <td>412</td>\n",
       "      <td>412</td>\n",
       "      <td>412</td>\n",
       "      <td>412</td>\n",
       "      <td>412</td>\n",
       "      <td>412</td>\n",
       "      <td>8</td>\n",
       "      <td>402</td>\n",
       "      <td>412</td>\n",
       "      <td>10</td>\n",
       "      <td>412</td>\n",
       "      <td>307</td>\n",
       "      <td>412</td>\n",
       "      <td>412</td>\n",
       "      <td>412</td>\n",
       "      <td>0</td>\n",
       "    </tr>\n",
       "    <tr>\n",
       "      <th>9/9/2020</th>\n",
       "      <td>0</td>\n",
       "      <td>346</td>\n",
       "      <td>346</td>\n",
       "      <td>346</td>\n",
       "      <td>346</td>\n",
       "      <td>346</td>\n",
       "      <td>346</td>\n",
       "      <td>7</td>\n",
       "      <td>337</td>\n",
       "      <td>346</td>\n",
       "      <td>5</td>\n",
       "      <td>346</td>\n",
       "      <td>288</td>\n",
       "      <td>346</td>\n",
       "      <td>346</td>\n",
       "      <td>346</td>\n",
       "      <td>0</td>\n",
       "    </tr>\n",
       "  </tbody>\n",
       "</table>\n",
       "<p>473 rows × 17 columns</p>\n",
       "</div>"
      ],
      "text/plain": [
       "           OBJECTID  County   Age  Age_group  Gender  Jurisdicti  Travel_rel  \\\n",
       "EventDate                                                                      \n",
       "1/1/2020          0       1     1          1       1           1           1   \n",
       "1/1/2021          0    2264  2264       2264    2264        2264        2264   \n",
       "1/10/2021         0    2264  2264       2264    2264        2264        2264   \n",
       "1/11/2021         0    2804  2802       2804    2804        2804        2804   \n",
       "1/12/2021         0    2282  2282       2282    2282        2282        2282   \n",
       "...             ...     ...   ...        ...     ...         ...         ...   \n",
       "9/5/2020          0     392   391        392     392         392         392   \n",
       "9/6/2020          0     311   311        311     311         311         311   \n",
       "9/7/2020          0     410   410        410     410         410         410   \n",
       "9/8/2020          0     412   412        412     412         412         412   \n",
       "9/9/2020          0     346   346        346     346         346         346   \n",
       "\n",
       "           Origin  EDvisit  Hospitaliz  Died  Case_  Contact  Case1  \\\n",
       "EventDate                                                             \n",
       "1/1/2020        1        1           1     0      1        1      1   \n",
       "1/1/2021       39     2218        2264    26   2264     1611   2264   \n",
       "1/10/2021      35     2221        2264    20   2264     1510   2264   \n",
       "1/11/2021      25     2745        2803    29   2804     1852   2804   \n",
       "1/12/2021      21     2220        2281    16   2282     1491   2282   \n",
       "...           ...      ...         ...   ...    ...      ...    ...   \n",
       "9/5/2020        4      378         392     8    392      255    392   \n",
       "9/6/2020        4      305         311     2    311      207    311   \n",
       "9/7/2020        6      402         410     6    410      256    410   \n",
       "9/8/2020        8      402         412    10    412      307    412   \n",
       "9/9/2020        7      337         346     5    346      288    346   \n",
       "\n",
       "           ChartDate  ObjectId2  ObjectId  \n",
       "EventDate                                  \n",
       "1/1/2020           1          1         0  \n",
       "1/1/2021        2264          0      2264  \n",
       "1/10/2021       2264          0      2264  \n",
       "1/11/2021       2804          0      2804  \n",
       "1/12/2021       2282          0      2282  \n",
       "...              ...        ...       ...  \n",
       "9/5/2020         392        392         0  \n",
       "9/6/2020         311        311         0  \n",
       "9/7/2020         410        410         0  \n",
       "9/8/2020         412        412         0  \n",
       "9/9/2020         346        346         0  \n",
       "\n",
       "[473 rows x 17 columns]"
      ]
     },
     "execution_count": 7,
     "metadata": {},
     "output_type": "execute_result"
    }
   ],
   "source": [
    "df_dade_grp"
   ]
  },
  {
   "cell_type": "code",
   "execution_count": 8,
   "metadata": {},
   "outputs": [],
   "source": [
    "#Group DF by Datetime\n",
    "df_dade_grp.index = pd.to_datetime(df_dade_grp.index, format=\"%m/%d/%Y\")"
   ]
  },
  {
   "cell_type": "code",
   "execution_count": 9,
   "metadata": {},
   "outputs": [],
   "source": [
    "#Sorting\n",
    "df_dade_grp_sorted = df_dade_grp.sort_index(axis='index', ascending=True)"
   ]
  },
  {
   "cell_type": "code",
   "execution_count": 10,
   "metadata": {},
   "outputs": [],
   "source": [
    "#Sort Date and Daily Cases\n",
    "df_dade_grp_sorted['Date'] = df_dade_grp_sorted.index.values\n",
    "df_dade_grp_sorted['Daily Cases'] = df_dade_grp_sorted['County']"
   ]
  },
  {
   "cell_type": "code",
   "execution_count": 11,
   "metadata": {},
   "outputs": [
    {
     "data": {
      "text/plain": [
       "<matplotlib.axes._subplots.AxesSubplot at 0x207bc9a36a0>"
      ]
     },
     "execution_count": 11,
     "metadata": {},
     "output_type": "execute_result"
    },
    {
     "data": {
      "image/png": "[encoded data removed]",
      "text/plain": [
       "<Figure size 432x288 with 1 Axes>"
      ]
     },
     "metadata": {
      "needs_background": "light"
     },
     "output_type": "display_data"
    }
   ],
   "source": [
    "#Q4: Line Chart that shows Total Number of Cases\n",
    "df_dade_grp_sorted.plot('Date', 'Daily Cases')"
   ]
  },
  {
   "cell_type": "code",
   "execution_count": 12,
   "metadata": {},
   "outputs": [],
   "source": [
    "#Q5: Create Moving Average\n",
    "df_dade_grp_sorted['Moving Average'] = df_dade_grp_sorted['Daily Cases'].rolling(5, min_periods=1).mean()"
   ]
  },
  {
   "cell_type": "code",
   "execution_count": 13,
   "metadata": {},
   "outputs": [
    {
     "data": {
      "text/plain": [
       "<matplotlib.axes._subplots.AxesSubplot at 0x207bca8b220>"
      ]
     },
     "execution_count": 13,
     "metadata": {},
     "output_type": "execute_result"
    },
    {
     "data": {
      "image/png": "[encoded data removed]",
      "text/plain": [
       "<Figure size 432x288 with 1 Axes>"
      ]
     },
     "metadata": {
      "needs_background": "light"
     },
     "output_type": "display_data"
    }
   ],
   "source": [
    "#Q6: Combined Plot of Daily Cases and Moving Average\n",
    "df_dade_grp_sorted.plot('Date', ['Daily Cases', 'Moving Average'])"
   ]
  },
  {
   "cell_type": "code",
   "execution_count": 14,
   "metadata": {},
   "outputs": [
    {
     "data": {
      "text/plain": [
       "<matplotlib.axes._subplots.AxesSubplot at 0x207bcb30160>"
      ]
     },
     "execution_count": 14,
     "metadata": {},
     "output_type": "execute_result"
    },
    {
     "data": {
      "image/png": "[encoded data removed]",
      "text/plain": [
       "<Figure size 432x288 with 1 Axes>"
      ]
     },
     "metadata": {
      "needs_background": "light"
     },
     "output_type": "display_data"
    }
   ],
   "source": [
    "#Subplotting\n",
    "plt.subplot(1,1,1, xlabel='Date', xticks=[], ylabel=\"Number of Cases\")"
   ]
  },
  {
   "cell_type": "code",
   "execution_count": 15,
   "metadata": {},
   "outputs": [
    {
     "data": {
      "text/plain": [
       "[<matplotlib.lines.Line2D at 0x207c49ec910>]"
      ]
     },
     "execution_count": 15,
     "metadata": {},
     "output_type": "execute_result"
    },
    {
     "data": {
      "image/png": "[encoded data removed]",
      "text/plain": [
       "<Figure size 432x288 with 1 Axes>"
      ]
     },
     "metadata": {
      "needs_background": "light"
     },
     "output_type": "display_data"
    }
   ],
   "source": [
    "#Q7: Combined Chart showing Moving Average as Column Chart and Daily Cases as Line Chart\n",
    "plt.bar(df_dade_grp_sorted['Date'], df_dade_grp_sorted['Daily Cases'], width =1)\n",
    "plt.plot(df_dade_grp_sorted['Date'], df_dade_grp_sorted['Moving Average'], color='red')"
   ]
  },
  {
   "cell_type": "code",
   "execution_count": 16,
   "metadata": {},
   "outputs": [],
   "source": [
    "#Listing Deaths\n",
    "deadlist = df_dade['Died'].to_list()"
   ]
  },
  {
   "cell_type": "code",
   "execution_count": 17,
   "metadata": {},
   "outputs": [],
   "source": [
    "#Creating Deaths List\n",
    "dead_code_list = []\n",
    "\n",
    "j = len(deadlist)\n",
    "\n",
    "for i in range(j):\n",
    "    if deadlist[i] == \"Yes\":\n",
    "        dead_code_list.append(1)\n",
    "    else:\n",
    "        dead_code_list.append(0)"
   ]
  },
  {
   "cell_type": "code",
   "execution_count": 18,
   "metadata": {},
   "outputs": [],
   "source": [
    "df_dade.insert(4, \"Dead Coded\", dead_code_list)"
   ]
  },
  {
   "cell_type": "code",
   "execution_count": 19,
   "metadata": {},
   "outputs": [],
   "source": [
    "h_deaths = df_dade.groupby(['EventDate']).sum(numeric_only=True)"
   ]
  },
  {
   "cell_type": "code",
   "execution_count": 20,
   "metadata": {},
   "outputs": [],
   "source": [
    "h_deaths.index = pd.to_datetime(h_deaths.index, format=\"%m/%d/%Y\")\n",
    "h_deaths_sorted = h_deaths.sort_index(axis = 'index', ascending=True)"
   ]
  },
  {
   "cell_type": "code",
   "execution_count": 21,
   "metadata": {},
   "outputs": [],
   "source": [
    "df_dade_grp_sorted['Deaths'] = h_deaths_sorted['Dead Coded']"
   ]
  },
  {
   "cell_type": "code",
   "execution_count": 22,
   "metadata": {},
   "outputs": [
    {
     "data": {
      "text/plain": [
       "<matplotlib.axes._subplots.AxesSubplot at 0x207c4a7f040>"
      ]
     },
     "execution_count": 22,
     "metadata": {},
     "output_type": "execute_result"
    },
    {
     "data": {
      "image/png": "[encoded data removed]",
      "text/plain": [
       "<Figure size 432x288 with 1 Axes>"
      ]
     },
     "metadata": {
      "needs_background": "light"
     },
     "output_type": "display_data"
    }
   ],
   "source": [
    "#Q8: Plotting Number of Daily Deaths\n",
    "df_dade_grp_sorted.plot('Date', ['Daily Cases', 'Deaths'])"
   ]
  },
  {
   "cell_type": "code",
   "execution_count": 23,
   "metadata": {},
   "outputs": [
    {
     "data": {
      "text/plain": [
       "(0.0, 4255.65)"
      ]
     },
     "execution_count": 23,
     "metadata": {},
     "output_type": "execute_result"
    },
    {
     "data": {
      "image/png": "[encoded data removed]",
      "text/plain": [
       "<Figure size 720x720 with 4 Axes>"
      ]
     },
     "metadata": {
      "needs_background": "light"
     },
     "output_type": "display_data"
    }
   ],
   "source": [
    "#Q9: Chart to show Moving Average and Number of Daily Deaths \n",
    "fig, h_axes = plt.subplots(2,2,figsize=[10,10])\n",
    "\n",
    "h_axes[0][0].set_xlabel('Date')\n",
    "h_axes[0][0].set_ylabel('Daily Cases')\n",
    "h_axes[0][0].set_title('Total Number of Cases and Deaths')\n",
    "\n",
    "plt.sca(h_axes[0][0])\n",
    "\n",
    "plt.plot(df_dade_grp_sorted['Date'], df_dade_grp_sorted['Daily Cases'], label= 'Daily Cases')\n",
    "plt.plot(df_dade_grp_sorted['Date'], df_dade_grp_sorted['Deaths'], label = 'Deaths')\n",
    "\n",
    "plt.legend()\n",
    "\n",
    "h_axes[0][0].set_ylim(bottom= 0)"
   ]
  }
 ],
 "metadata": {
  "kernelspec": {
   "display_name": "Python 3",
   "language": "python",
   "name": "python3"
  },
  "language_info": {
   "codemirror_mode": {
    "name": "ipython",
    "version": 3
   },
   "file_extension": ".py",
   "mimetype": "text/x-python",
   "name": "python",
   "nbconvert_exporter": "python",
   "pygments_lexer": "ipython3",
   "version": "3.8.3"
  }
 },
 "nbformat": 4,
 "nbformat_minor": 4
}
